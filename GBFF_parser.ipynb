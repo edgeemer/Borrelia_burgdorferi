{
  "nbformat": 4,
  "nbformat_minor": 0,
  "metadata": {
    "colab": {
      "provenance": [],
      "authorship_tag": "ABX9TyNRmpg6QAEP1PNEJ9zMa0U9",
      "include_colab_link": true
    },
    "kernelspec": {
      "name": "python3",
      "display_name": "Python 3"
    },
    "language_info": {
      "name": "python"
    }
  },
  "cells": [
    {
      "cell_type": "markdown",
      "metadata": {
        "id": "view-in-github",
        "colab_type": "text"
      },
      "source": [
        "<a href=\"https://colab.research.google.com/github/edgeemer/Borrelia_burgdorferi/blob/main/GBFF_parser.ipynb\" target=\"_parent\"><img src=\"https://colab.research.google.com/assets/colab-badge.svg\" alt=\"Open In Colab\"/></a>"
      ]
    },
    {
      "cell_type": "markdown",
      "source": [
        "Reference genome analysis"
      ],
      "metadata": {
        "id": "0HVpe-2FFWHH"
      }
    },
    {
      "cell_type": "code",
      "source": [
        "!pip install biopython pandas"
      ],
      "metadata": {
        "id": "8-4v4UxFHMMP"
      },
      "execution_count": null,
      "outputs": []
    },
    {
      "cell_type": "code",
      "source": [
        "import pandas as pd\n",
        "from Bio import SeqIO\n",
        "from Bio import SeqFeature"
      ],
      "metadata": {
        "id": "clLQ8X2sFZdN"
      },
      "execution_count": 64,
      "outputs": []
    },
    {
      "cell_type": "code",
      "source": [
        "# GBFF\n",
        "gbff_file = \"genomic.gbff\""
      ],
      "metadata": {
        "id": "tBLTFTcRGueB"
      },
      "execution_count": 65,
      "outputs": []
    },
    {
      "cell_type": "code",
      "source": [
        "gbff_data = []\n",
        "\n",
        "# Function to parse GFF file\n",
        "def parse_gbff(file_path):\n",
        "    with open(file_path) as handle:\n",
        "        for record in SeqIO.parse(handle, 'gb'):\n",
        "          for feature in record.features:\n",
        "              if feature.type == \"CDS\":\n",
        "                  gene_id = feature.qualifiers.get('gene', [''])[0]\n",
        "                  product = feature.qualifiers.get('product', [''])[0]\n",
        "                  gbff_data.append({\n",
        "                      'Type': feature.type,\n",
        "                      'GeneID': gene_id,\n",
        "                      'Product': product\n",
        "                      })\n",
        "\n",
        "# Parsing the GFF file\n",
        "parse_gbff(gbff_file)\n",
        "\n",
        "# Creating a DataFrame\n",
        "df = pd.DataFrame(gbff_data)"
      ],
      "metadata": {
        "id": "FBUkFSXwG2fT"
      },
      "execution_count": 66,
      "outputs": []
    },
    {
      "cell_type": "code",
      "source": [
        "print(df.head())"
      ],
      "metadata": {
        "id": "dLJQ8qmsNfJj"
      },
      "execution_count": null,
      "outputs": []
    },
    {
      "cell_type": "code",
      "source": [
        "# Total CDS\n",
        "total_cds = len(df)\n",
        "\n",
        "# CDS with genes and hypothetical protein as a product\n",
        "cds_with_gene_hypothetical = len(df[(df['GeneID'] != '') & (df['Product'].str.contains('hypothetical protein'))])\n",
        "\n",
        "# CDS with genes and non-hypothetical protein as a product\n",
        "cds_with_gene_non_hypothetical = len(df[(df['GeneID'] != '') & (~df['Product'].str.contains('hypothetical protein'))])\n",
        "\n",
        "# CDS without genes and with hypothetical protein as a product\n",
        "cds_without_gene_hypothetical = len(df[(df['GeneID'] == '') & (df['Product'].str.contains('hypothetical protein'))])\n",
        "\n",
        "# CDS without genes and with non-hypothetical protein as a product\n",
        "cds_without_gene_non_hypothetical = len(df[(df['GeneID'] == '') & (~df['Product'].str.contains('hypothetical protein'))])"
      ],
      "metadata": {
        "id": "OfSjsFoAG4Ta"
      },
      "execution_count": 68,
      "outputs": []
    },
    {
      "cell_type": "code",
      "source": [
        "print(f\"Total CDS: {total_cds}\")\n",
        "print(f\"CDS with Genes and Hypothetical Protein: {cds_with_gene_hypothetical}\")\n",
        "print(f\"CDS with Genes and Non-Hypothetical Protein: {cds_with_gene_non_hypothetical}\")\n",
        "print(f\"CDS without Genes and with Hypothetical Protein: {cds_without_gene_hypothetical}\")\n",
        "print(f\"CDS without Genes and with Non-Hypothetical Protein: {cds_without_gene_non_hypothetical}\")"
      ],
      "metadata": {
        "id": "zfKLGGqFHBYn"
      },
      "execution_count": null,
      "outputs": []
    }
  ]
}